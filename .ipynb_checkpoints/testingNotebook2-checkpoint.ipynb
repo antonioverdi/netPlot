{
 "cells": [
  {
   "cell_type": "code",
   "execution_count": 1,
   "metadata": {},
   "outputs": [],
   "source": [
    "import argparse\n",
    "import os\n",
    "import shutil\n",
    "import time\n",
    "import math\n",
    "\n",
    "import torch\n",
    "import torch.nn as nn\n",
    "import torch.nn.parallel\n",
    "import torch.backends.cudnn as cudnn\n",
    "import torch.optim as optim\n",
    "import torch.utils.data\n",
    "import torchvision.transforms as transforms\n",
    "import torchvision.datasets as datasets\n",
    "import torchvision.models as models\n",
    "import seaborn as sns\n",
    "import matplotlib.pyplot as plt\n",
    "\n",
    "import numpy as np\n",
    "\n",
    "import resnet\n",
    "import other_resnet\n",
    "import utils"
   ]
  },
  {
   "cell_type": "code",
   "execution_count": 2,
   "metadata": {
    "scrolled": true
   },
   "outputs": [
    {
     "name": "stdout",
     "output_type": "stream",
     "text": [
      "cpu\n"
     ]
    }
   ],
   "source": [
    "cuda_ = \"cuda:0\"\n",
    "device = torch.device(cuda_ if torch.cuda.is_available() else \"cpu\")\t\n",
    "print(device)"
   ]
  },
  {
   "cell_type": "code",
   "execution_count": null,
   "metadata": {},
   "outputs": [],
   "source": []
  },
  {
   "cell_type": "code",
   "execution_count": null,
   "metadata": {},
   "outputs": [],
   "source": []
  },
  {
   "cell_type": "code",
   "execution_count": 3,
   "metadata": {},
   "outputs": [],
   "source": [
    "path1 = 'test_models/finetune010.th'\n",
    "path2 = 'test_models/finetune080.th'\n",
    "model1 = utils.loadNetwork(path1, 'resnet56')\n",
    "model2 = utils.loadNetwork(path2, 'resnet56')"
   ]
  },
  {
   "cell_type": "code",
   "execution_count": 4,
   "metadata": {
    "scrolled": false
   },
   "outputs": [
    {
     "name": "stdout",
     "output_type": "stream",
     "text": [
      "Creating dictionary...\n",
      "64\n",
      "Cleaning up...\n",
      "(9, 48)\n",
      "(48, 48)\n",
      "(48, 48)\n",
      "(48, 48)\n",
      "(48, 48)\n",
      "(48, 48)\n",
      "(48, 48)\n",
      "(48, 48)\n",
      "(48, 48)\n",
      "(48, 48)\n",
      "(48, 48)\n",
      "(48, 48)\n",
      "(48, 48)\n",
      "(48, 48)\n",
      "(48, 48)\n",
      "(48, 48)\n",
      "(48, 48)\n",
      "(48, 48)\n",
      "(48, 48)\n",
      "(48, 96)\n",
      "(96, 96)\n",
      "(96, 96)\n",
      "(96, 96)\n",
      "(96, 96)\n",
      "(96, 96)\n",
      "(96, 96)\n",
      "(96, 96)\n",
      "(96, 96)\n",
      "(96, 96)\n",
      "(96, 96)\n",
      "(96, 96)\n",
      "(96, 96)\n",
      "(96, 96)\n",
      "(96, 96)\n",
      "(96, 96)\n",
      "(96, 96)\n",
      "(96, 96)\n",
      "(96, 192)\n",
      "(192, 192)\n",
      "(192, 192)\n",
      "(192, 192)\n",
      "(192, 192)\n",
      "(192, 192)\n",
      "(192, 192)\n",
      "(192, 192)\n",
      "(192, 192)\n",
      "(192, 192)\n",
      "(192, 192)\n",
      "(192, 192)\n",
      "(192, 192)\n",
      "(192, 192)\n",
      "(192, 192)\n",
      "(192, 192)\n",
      "(192, 192)\n",
      "(192, 192)\n",
      "Creating dictionary...\n",
      "64\n",
      "Cleaning up...\n",
      "(9, 48)\n",
      "(48, 48)\n",
      "(48, 48)\n",
      "(48, 48)\n",
      "(48, 48)\n",
      "(48, 48)\n",
      "(48, 48)\n",
      "(48, 48)\n",
      "(48, 48)\n",
      "(48, 48)\n",
      "(48, 48)\n",
      "(48, 48)\n",
      "(48, 48)\n",
      "(48, 48)\n",
      "(48, 48)\n",
      "(48, 48)\n",
      "(48, 48)\n",
      "(48, 48)\n",
      "(48, 48)\n",
      "(48, 96)\n",
      "(96, 96)\n",
      "(96, 96)\n",
      "(96, 96)\n",
      "(96, 96)\n",
      "(96, 96)\n",
      "(96, 96)\n",
      "(96, 96)\n",
      "(96, 96)\n",
      "(96, 96)\n",
      "(96, 96)\n",
      "(96, 96)\n",
      "(96, 96)\n",
      "(96, 96)\n",
      "(96, 96)\n",
      "(96, 96)\n",
      "(96, 96)\n",
      "(96, 96)\n",
      "(96, 192)\n",
      "(192, 192)\n",
      "(192, 192)\n",
      "(192, 192)\n",
      "(192, 192)\n",
      "(192, 192)\n",
      "(192, 192)\n",
      "(192, 192)\n",
      "(192, 192)\n",
      "(192, 192)\n",
      "(192, 192)\n",
      "(192, 192)\n",
      "(192, 192)\n",
      "(192, 192)\n",
      "(192, 192)\n",
      "(192, 192)\n",
      "(192, 192)\n",
      "(192, 192)\n"
     ]
    }
   ],
   "source": [
    "module_dict1 = utils.processNetwork(model1)\n",
    "module_dict2 = utils.processNetwork(model2)"
   ]
  },
  {
   "cell_type": "code",
   "execution_count": null,
   "metadata": {},
   "outputs": [],
   "source": []
  },
  {
   "cell_type": "code",
   "execution_count": 6,
   "metadata": {},
   "outputs": [
    {
     "name": "stdout",
     "output_type": "stream",
     "text": [
      "Creating dictionary...\n",
      "64\n",
      "Cleaning up...\n",
      "Creating dictionary...\n",
      "64\n",
      "Cleaning up...\n"
     ]
    },
    {
     "ename": "AttributeError",
     "evalue": "'dict' object has no attribute 'shape'",
     "output_type": "error",
     "traceback": [
      "\u001b[0;31m---------------------------------------------------------------------------\u001b[0m",
      "\u001b[0;31mAttributeError\u001b[0m                            Traceback (most recent call last)",
      "\u001b[0;32m<ipython-input-6-1f39de704dce>\u001b[0m in \u001b[0;36m<module>\u001b[0;34m\u001b[0m\n\u001b[0;32m----> 1\u001b[0;31m \u001b[0mutils\u001b[0m\u001b[0;34m.\u001b[0m\u001b[0mplotDifference\u001b[0m\u001b[0;34m(\u001b[0m\u001b[0mpath1\u001b[0m\u001b[0;34m,\u001b[0m \u001b[0mpath2\u001b[0m\u001b[0;34m,\u001b[0m \u001b[0;34m'resnet56'\u001b[0m\u001b[0;34m,\u001b[0m \u001b[0;36m512\u001b[0m\u001b[0;34m)\u001b[0m\u001b[0;34m\u001b[0m\u001b[0;34m\u001b[0m\u001b[0m\n\u001b[0m",
      "\u001b[0;32m~/netPlot/utils.py\u001b[0m in \u001b[0;36mplotDifference\u001b[0;34m(path1, path2, architecture, max_dim)\u001b[0m\n\u001b[1;32m    118\u001b[0m     \u001b[0mnetwork2_dict\u001b[0m \u001b[0;34m=\u001b[0m \u001b[0mprocessNetwork\u001b[0m\u001b[0;34m(\u001b[0m\u001b[0mnetwork2\u001b[0m\u001b[0;34m)\u001b[0m\u001b[0;34m\u001b[0m\u001b[0;34m\u001b[0m\u001b[0m\n\u001b[1;32m    119\u001b[0m \u001b[0;34m\u001b[0m\u001b[0m\n\u001b[0;32m--> 120\u001b[0;31m     \u001b[0;32mif\u001b[0m \u001b[0mnetwork1_dict\u001b[0m\u001b[0;34m.\u001b[0m\u001b[0mshape\u001b[0m \u001b[0;34m==\u001b[0m \u001b[0mnetwork2_dict\u001b[0m\u001b[0;34m.\u001b[0m\u001b[0mshape\u001b[0m\u001b[0;34m:\u001b[0m\u001b[0;34m\u001b[0m\u001b[0;34m\u001b[0m\u001b[0m\n\u001b[0m\u001b[1;32m    121\u001b[0m         \u001b[0mdifference\u001b[0m \u001b[0;34m=\u001b[0m \u001b[0mnp\u001b[0m\u001b[0;34m.\u001b[0m\u001b[0msubtract\u001b[0m\u001b[0;34m(\u001b[0m\u001b[0mnetwork2_dict\u001b[0m\u001b[0;34m,\u001b[0m \u001b[0mnetwork1_dict\u001b[0m\u001b[0;34m)\u001b[0m\u001b[0;34m\u001b[0m\u001b[0;34m\u001b[0m\u001b[0m\n\u001b[1;32m    122\u001b[0m     \u001b[0;32melse\u001b[0m\u001b[0;34m:\u001b[0m\u001b[0;34m\u001b[0m\u001b[0;34m\u001b[0m\u001b[0m\n",
      "\u001b[0;31mAttributeError\u001b[0m: 'dict' object has no attribute 'shape'"
     ]
    }
   ],
   "source": [
    "utils.plotDifference(path1, path2, 'resnet56', 512)"
   ]
  },
  {
   "cell_type": "code",
   "execution_count": 5,
   "metadata": {},
   "outputs": [
    {
     "data": {
      "text/plain": [
       "array([ 0, -1, -2])"
      ]
     },
     "execution_count": 5,
     "metadata": {},
     "output_type": "execute_result"
    }
   ],
   "source": [
    "test1 = np.array([1])\n",
    "test2 = np.array([1, 2, 3])\n",
    "np.subtract(test2, test1)"
   ]
  },
  {
   "cell_type": "code",
   "execution_count": null,
   "metadata": {},
   "outputs": [],
   "source": []
  },
  {
   "cell_type": "code",
   "execution_count": null,
   "metadata": {},
   "outputs": [],
   "source": []
  },
  {
   "cell_type": "code",
   "execution_count": null,
   "metadata": {},
   "outputs": [],
   "source": []
  },
  {
   "cell_type": "code",
   "execution_count": null,
   "metadata": {},
   "outputs": [],
   "source": []
  },
  {
   "cell_type": "code",
   "execution_count": null,
   "metadata": {},
   "outputs": [],
   "source": []
  },
  {
   "cell_type": "code",
   "execution_count": null,
   "metadata": {},
   "outputs": [],
   "source": []
  },
  {
   "cell_type": "code",
   "execution_count": null,
   "metadata": {},
   "outputs": [],
   "source": []
  },
  {
   "cell_type": "code",
   "execution_count": null,
   "metadata": {},
   "outputs": [],
   "source": []
  },
  {
   "cell_type": "code",
   "execution_count": null,
   "metadata": {},
   "outputs": [],
   "source": []
  },
  {
   "cell_type": "code",
   "execution_count": null,
   "metadata": {},
   "outputs": [],
   "source": []
  },
  {
   "cell_type": "code",
   "execution_count": null,
   "metadata": {},
   "outputs": [],
   "source": []
  },
  {
   "cell_type": "code",
   "execution_count": null,
   "metadata": {},
   "outputs": [],
   "source": []
  }
 ],
 "metadata": {
  "kernelspec": {
   "display_name": "Python 3",
   "language": "python",
   "name": "python3"
  },
  "language_info": {
   "codemirror_mode": {
    "name": "ipython",
    "version": 3
   },
   "file_extension": ".py",
   "mimetype": "text/x-python",
   "name": "python",
   "nbconvert_exporter": "python",
   "pygments_lexer": "ipython3",
   "version": "3.8.5"
  }
 },
 "nbformat": 4,
 "nbformat_minor": 4
}
